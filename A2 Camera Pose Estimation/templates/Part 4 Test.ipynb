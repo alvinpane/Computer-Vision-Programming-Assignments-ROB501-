{
 "cells": [
  {
   "cell_type": "code",
   "execution_count": 10,
   "metadata": {},
   "outputs": [
    {
     "ename": "ModuleNotFoundError",
     "evalue": "No module named 'pose_estimate_nls_soln'",
     "output_type": "error",
     "traceback": [
      "\u001b[0;31m---------------------------------------------------------------------------\u001b[0m",
      "\u001b[0;31mModuleNotFoundError\u001b[0m                       Traceback (most recent call last)",
      "\u001b[0;32m<ipython-input-10-6478147cdc4e>\u001b[0m in \u001b[0;36m<module>\u001b[0;34m\u001b[0m\n\u001b[1;32m      1\u001b[0m \u001b[0;32mimport\u001b[0m \u001b[0mnumpy\u001b[0m \u001b[0;32mas\u001b[0m \u001b[0mnp\u001b[0m\u001b[0;34m\u001b[0m\u001b[0;34m\u001b[0m\u001b[0m\n\u001b[1;32m      2\u001b[0m \u001b[0;32mimport\u001b[0m \u001b[0mmatplotlib\u001b[0m\u001b[0;34m.\u001b[0m\u001b[0mpyplot\u001b[0m \u001b[0;32mas\u001b[0m \u001b[0mplt\u001b[0m\u001b[0;34m\u001b[0m\u001b[0;34m\u001b[0m\u001b[0m\n\u001b[0;32m----> 3\u001b[0;31m \u001b[0;32mfrom\u001b[0m \u001b[0mpose_estimate_nls_soln\u001b[0m \u001b[0;32mimport\u001b[0m \u001b[0mpose_estimate_nls\u001b[0m\u001b[0;34m,\u001b[0m \u001b[0mhpose_from_epose\u001b[0m\u001b[0;34m\u001b[0m\u001b[0;34m\u001b[0m\u001b[0m\n\u001b[0m\u001b[1;32m      4\u001b[0m \u001b[0;32mfrom\u001b[0m \u001b[0mdcm_from_rpy\u001b[0m \u001b[0;32mimport\u001b[0m \u001b[0mdcm_from_rpy\u001b[0m\u001b[0;34m\u001b[0m\u001b[0;34m\u001b[0m\u001b[0m\n\u001b[1;32m      5\u001b[0m \u001b[0;34m\u001b[0m\u001b[0m\n",
      "\u001b[0;31mModuleNotFoundError\u001b[0m: No module named 'pose_estimate_nls_soln'"
     ]
    }
   ],
   "source": [
    "import numpy as np\n",
    "import matplotlib.pyplot as plt\n",
    "from pose_estimate_nls_soln import pose_estimate_nls, hpose_from_epose\n",
    "from dcm_from_rpy import dcm_from_rpy\n",
    "\n",
    "# Camera intrinsics matrix - known.\n",
    "K = np.array([[564.9, 0, 337.3], [0, 564.3, 226.5], [0, 0, 1]])\n",
    "\n",
    "# Load landmark points (3D - ground truth).\n",
    "Wpts = np.load('../data/world_pts.npy')\n",
    "\n",
    "# Load initial guess for camera pose.\n",
    "Twc_guess = np.load('../data/camera_pose_guess_01.npy')\n",
    "\n",
    "# Load detected cross-junctions (2D - in image).\n",
    "Ipts = np.load('../data/cross_junctions_01.npy')\n",
    "\n",
    "Twc = pose_estimate_nls(K, Twc_guess, Ipts, Wpts)\n",
    "print(Twc)\n",
    "\n",
    "# Twc =\n",
    "#     0.9159   -0.3804    0.1282    0.0932\n",
    "#     0.3827    0.9239    0.0074   -0.0082\n",
    "#    -0.1212    0.0423    0.9917   -1.0947\n",
    "#          0         0         0    1.0000\n",
    "\n",
    "# Plot the pose to check!\n",
    "C = dcm_from_rpy(np.array([-np.pi/2, 0, 0]))\n",
    "Wpts = C@Wpts # Rotate upright to visualize.\n",
    "Twc = hpose_from_epose(np.array([0, 0, 0, -np.pi/2, 0, 0]))@Twc\n",
    "\n",
    "fig = plt.figure()\n",
    "ax = plt.axes(projection = '3d')\n",
    "ax.scatter3D(Wpts[0, :], Wpts[1, :], Wpts[2, :], 'o', c = 'r')\n",
    "ax.scatter3D(Twc[0, 3], Twc[1, 3], Twc[2, 3], 'o', c = 'b')\n",
    "s = np.hstack((Twc[0:3, None, 3], Twc[0:3, None, 3], Twc[0:3, None, 3]))\n",
    "e = 0.3*Twc[0:3, 0:3] + s\n",
    "ax.plot3D([s[0, 0], e[0, 0]], [s[1, 0], e[1, 0]], [s[2, 0], e[2, 0]], 'r')\n",
    "ax.plot3D([s[0, 1], e[0, 1]], [s[1, 1], e[1, 1]], [s[2, 1], e[2, 1]], 'g')\n",
    "ax.plot3D([s[0, 2], e[0, 2]], [s[1, 2], e[1, 2]], [s[2, 2], e[2, 2]], 'b')\n",
    "ax.auto_scale_xyz([-0.3, 0.7], [-1.5, 0.1], [-0.5, 0.5])\n",
    "plt.show()"
   ]
  },
  {
   "cell_type": "code",
   "execution_count": null,
   "metadata": {},
   "outputs": [],
   "source": []
  },
  {
   "cell_type": "code",
   "execution_count": null,
   "metadata": {},
   "outputs": [],
   "source": []
  },
  {
   "cell_type": "code",
   "execution_count": null,
   "metadata": {},
   "outputs": [],
   "source": []
  }
 ],
 "metadata": {
  "kernelspec": {
   "display_name": "Python 3",
   "language": "python",
   "name": "python3"
  },
  "language_info": {
   "codemirror_mode": {
    "name": "ipython",
    "version": 3
   },
   "file_extension": ".py",
   "mimetype": "text/x-python",
   "name": "python",
   "nbconvert_exporter": "python",
   "pygments_lexer": "ipython3",
   "version": "3.7.6"
  }
 },
 "nbformat": 4,
 "nbformat_minor": 4
}
